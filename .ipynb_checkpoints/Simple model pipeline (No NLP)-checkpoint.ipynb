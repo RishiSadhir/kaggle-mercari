{
 "cells": [
  {
   "cell_type": "markdown",
   "metadata": {},
   "source": [
    "# Retrieve data"
   ]
  },
  {
   "cell_type": "code",
   "execution_count": 19,
   "metadata": {},
   "outputs": [],
   "source": [
    "import pandas as pd\n",
    "import numpy as np\n",
    "from plotnine import *\n",
    "\n",
    "import warnings\n",
    "warnings.filterwarnings('ignore')"
   ]
  },
  {
   "cell_type": "code",
   "execution_count": 2,
   "metadata": {},
   "outputs": [],
   "source": [
    "# TODO use a relative path here\n",
    "train_path = \"C:\\\\Users\\\\Rishi\\\\Documents\\\\Kaggle\\\\Mercari\\\\data\\\\train.tsv\"\n",
    "train = pd.read_csv(train_path, sep='\\t')\n",
    "\n",
    "pd.np.random.seed(369)"
   ]
  },
  {
   "cell_type": "markdown",
   "metadata": {},
   "source": [
    "# Preprocessing\n",
    "## Parse out individual category levels\n",
    "Product category names consist of subcategory trees (Men/Tops/T-shirts). There don't appear to be more than 5 levels and the vast majority of them have just 3 levels. Below, we create a variable for each level."
   ]
  },
  {
   "cell_type": "code",
   "execution_count": 3,
   "metadata": {},
   "outputs": [
    {
     "data": {
      "text/html": [
       "<div>\n",
       "<style scoped>\n",
       "    .dataframe tbody tr th:only-of-type {\n",
       "        vertical-align: middle;\n",
       "    }\n",
       "\n",
       "    .dataframe tbody tr th {\n",
       "        vertical-align: top;\n",
       "    }\n",
       "\n",
       "    .dataframe thead th {\n",
       "        text-align: right;\n",
       "    }\n",
       "</style>\n",
       "<table border=\"1\" class=\"dataframe\">\n",
       "  <thead>\n",
       "    <tr style=\"text-align: right;\">\n",
       "      <th></th>\n",
       "      <th>brand_name</th>\n",
       "      <th>shipping</th>\n",
       "      <th>category1</th>\n",
       "      <th>category2</th>\n",
       "      <th>category3</th>\n",
       "      <th>category4</th>\n",
       "      <th>category5</th>\n",
       "    </tr>\n",
       "  </thead>\n",
       "  <tbody>\n",
       "    <tr>\n",
       "      <th>0</th>\n",
       "      <td>NaN</td>\n",
       "      <td>1</td>\n",
       "      <td>Men</td>\n",
       "      <td>Tops</td>\n",
       "      <td>T-shirts</td>\n",
       "      <td>NaN</td>\n",
       "      <td>NaN</td>\n",
       "    </tr>\n",
       "    <tr>\n",
       "      <th>1</th>\n",
       "      <td>Razer</td>\n",
       "      <td>0</td>\n",
       "      <td>Electronics</td>\n",
       "      <td>Computers &amp; Tablets</td>\n",
       "      <td>Components &amp; Parts</td>\n",
       "      <td>NaN</td>\n",
       "      <td>NaN</td>\n",
       "    </tr>\n",
       "    <tr>\n",
       "      <th>2</th>\n",
       "      <td>Target</td>\n",
       "      <td>1</td>\n",
       "      <td>Women</td>\n",
       "      <td>Tops &amp; Blouses</td>\n",
       "      <td>Blouse</td>\n",
       "      <td>NaN</td>\n",
       "      <td>NaN</td>\n",
       "    </tr>\n",
       "    <tr>\n",
       "      <th>3</th>\n",
       "      <td>NaN</td>\n",
       "      <td>1</td>\n",
       "      <td>Home</td>\n",
       "      <td>Home Décor</td>\n",
       "      <td>Home Décor Accents</td>\n",
       "      <td>NaN</td>\n",
       "      <td>NaN</td>\n",
       "    </tr>\n",
       "    <tr>\n",
       "      <th>4</th>\n",
       "      <td>NaN</td>\n",
       "      <td>0</td>\n",
       "      <td>Women</td>\n",
       "      <td>Jewelry</td>\n",
       "      <td>Necklaces</td>\n",
       "      <td>NaN</td>\n",
       "      <td>NaN</td>\n",
       "    </tr>\n",
       "  </tbody>\n",
       "</table>\n",
       "</div>"
      ],
      "text/plain": [
       "  brand_name  shipping    category1            category2           category3  \\\n",
       "0        NaN         1          Men                 Tops            T-shirts   \n",
       "1      Razer         0  Electronics  Computers & Tablets  Components & Parts   \n",
       "2     Target         1        Women       Tops & Blouses              Blouse   \n",
       "3        NaN         1         Home           Home Décor  Home Décor Accents   \n",
       "4        NaN         0        Women              Jewelry           Necklaces   \n",
       "\n",
       "  category4 category5  \n",
       "0       NaN       NaN  \n",
       "1       NaN       NaN  \n",
       "2       NaN       NaN  \n",
       "3       NaN       NaN  \n",
       "4       NaN       NaN  "
      ]
     },
     "execution_count": 3,
     "metadata": {},
     "output_type": "execute_result"
    }
   ],
   "source": [
    "from sklearn import preprocessing\n",
    "\n",
    "train_x = train[[\"brand_name\", \"shipping\", \"category_name\"]]\n",
    "train_y = train.price\n",
    "\n",
    "def piece(string, delim, n):\n",
    "    string = str(string)\n",
    "    if string.count(delim) < n:\n",
    "        return pd.np.NaN\n",
    "    return string.split(delim)[n]\n",
    "\n",
    "train_x[\"category1\"] = train_x.category_name.map(lambda x: piece(x, \"/\", 0))\n",
    "train_x[\"category2\"] = train_x.category_name.map(lambda x: piece(x, \"/\", 1))\n",
    "train_x[\"category3\"] = train_x.category_name.map(lambda x: piece(x, \"/\", 2))\n",
    "train_x[\"category4\"] = train_x.category_name.map(lambda x: piece(x, \"/\", 3))\n",
    "train_x[\"category5\"] = train_x.category_name.map(lambda x: piece(x, \"/\", 4))\n",
    "train_x = train_x.drop(columns='category_name')\n",
    "train_x.head()"
   ]
  },
  {
   "cell_type": "markdown",
   "metadata": {},
   "source": [
    "## Fill in missing data\n",
    "\n",
    "For now we will be representing any missing data with the string 'zMissing.'"
   ]
  },
  {
   "cell_type": "code",
   "execution_count": 4,
   "metadata": {},
   "outputs": [
    {
     "data": {
      "text/html": [
       "<div>\n",
       "<style scoped>\n",
       "    .dataframe tbody tr th:only-of-type {\n",
       "        vertical-align: middle;\n",
       "    }\n",
       "\n",
       "    .dataframe tbody tr th {\n",
       "        vertical-align: top;\n",
       "    }\n",
       "\n",
       "    .dataframe thead th {\n",
       "        text-align: right;\n",
       "    }\n",
       "</style>\n",
       "<table border=\"1\" class=\"dataframe\">\n",
       "  <thead>\n",
       "    <tr style=\"text-align: right;\">\n",
       "      <th></th>\n",
       "      <th>brand_name</th>\n",
       "      <th>shipping</th>\n",
       "      <th>category1</th>\n",
       "      <th>category2</th>\n",
       "      <th>category3</th>\n",
       "      <th>category4</th>\n",
       "      <th>category5</th>\n",
       "    </tr>\n",
       "  </thead>\n",
       "  <tbody>\n",
       "    <tr>\n",
       "      <th>0</th>\n",
       "      <td>zMissing</td>\n",
       "      <td>1</td>\n",
       "      <td>Men</td>\n",
       "      <td>Tops</td>\n",
       "      <td>T-shirts</td>\n",
       "      <td>zMissing</td>\n",
       "      <td>zMissing</td>\n",
       "    </tr>\n",
       "    <tr>\n",
       "      <th>1</th>\n",
       "      <td>Razer</td>\n",
       "      <td>0</td>\n",
       "      <td>Electronics</td>\n",
       "      <td>Computers &amp; Tablets</td>\n",
       "      <td>Components &amp; Parts</td>\n",
       "      <td>zMissing</td>\n",
       "      <td>zMissing</td>\n",
       "    </tr>\n",
       "    <tr>\n",
       "      <th>2</th>\n",
       "      <td>Target</td>\n",
       "      <td>1</td>\n",
       "      <td>Women</td>\n",
       "      <td>Tops &amp; Blouses</td>\n",
       "      <td>Blouse</td>\n",
       "      <td>zMissing</td>\n",
       "      <td>zMissing</td>\n",
       "    </tr>\n",
       "    <tr>\n",
       "      <th>3</th>\n",
       "      <td>zMissing</td>\n",
       "      <td>1</td>\n",
       "      <td>Home</td>\n",
       "      <td>Home Décor</td>\n",
       "      <td>Home Décor Accents</td>\n",
       "      <td>zMissing</td>\n",
       "      <td>zMissing</td>\n",
       "    </tr>\n",
       "    <tr>\n",
       "      <th>4</th>\n",
       "      <td>zMissing</td>\n",
       "      <td>0</td>\n",
       "      <td>Women</td>\n",
       "      <td>Jewelry</td>\n",
       "      <td>Necklaces</td>\n",
       "      <td>zMissing</td>\n",
       "      <td>zMissing</td>\n",
       "    </tr>\n",
       "  </tbody>\n",
       "</table>\n",
       "</div>"
      ],
      "text/plain": [
       "  brand_name  shipping    category1            category2           category3  \\\n",
       "0   zMissing         1          Men                 Tops            T-shirts   \n",
       "1      Razer         0  Electronics  Computers & Tablets  Components & Parts   \n",
       "2     Target         1        Women       Tops & Blouses              Blouse   \n",
       "3   zMissing         1         Home           Home Décor  Home Décor Accents   \n",
       "4   zMissing         0        Women              Jewelry           Necklaces   \n",
       "\n",
       "  category4 category5  \n",
       "0  zMissing  zMissing  \n",
       "1  zMissing  zMissing  \n",
       "2  zMissing  zMissing  \n",
       "3  zMissing  zMissing  \n",
       "4  zMissing  zMissing  "
      ]
     },
     "execution_count": 4,
     "metadata": {},
     "output_type": "execute_result"
    }
   ],
   "source": [
    "train_x = train_x.fillna('zMissing')\n",
    "train_x.head()"
   ]
  },
  {
   "cell_type": "markdown",
   "metadata": {},
   "source": [
    "# One hot encode\n",
    "http://scikit-learn.org/stable/modules/preprocessing.html#encoding-categorical-features\n",
    "\n",
    "Create dummy variables out of categorical variables. First we use LabelEncoder to swap out category names with numbers. Then we use OneHotEncoder to pivot out those values in to columns.\n",
    "\n",
    "**OneHotEncoder**\n",
    "\n",
    "* Encode categorical integer features using a one-hot aka one-of-K scheme.\n",
    "* The input to this transformer should be a matrix of integers, denoting the values taken on by categorical (discrete) features.\n",
    "* The output will be a sparse matrix where each column corresponds to one possible value of one feature.\n",
    "* It is assumed that input features take on values in the range [0, n_values).\n",
    "* This encoding is needed for feeding categorical data to many scikit-learn estimators, notably linear models and SVMs with the standard kernels.\n",
    "\n"
   ]
  },
  {
   "cell_type": "code",
   "execution_count": 5,
   "metadata": {},
   "outputs": [],
   "source": [
    "# Pandas is proving to be too slow\n",
    "# dummies = pd.get_dummies(train_x)\n",
    "# lets try it with sklearn\n",
    "encoder = preprocessing.OneHotEncoder()\n",
    "label_encoder = preprocessing.LabelEncoder()\n",
    "data_label_encoded = train_x.apply(label_encoder.fit_transform)\n",
    "train_x_encoded = encoder.fit_transform(data_label_encoded)"
   ]
  },
  {
   "cell_type": "markdown",
   "metadata": {},
   "source": [
    "# Supervised Learning\n",
    "\n",
    "Lets start by experimenting with a simple SGD regressor becasue of how fast it is.\n",
    "http://scikit-learn.org/stable/modules/generated/sklearn.linear_model.SGDRegressor.html#sklearn.linear_model.SGDRegressor\n",
    "\n",
    "Further down the line we should incorporate matrix factorization as the collinearity and correlations are likely quite high. We'll also want to perform cross validation to pick optimal parameters for SGD."
   ]
  },
  {
   "cell_type": "code",
   "execution_count": 6,
   "metadata": {},
   "outputs": [],
   "source": [
    "# This competition uses root mean squared log error.\n",
    "# Lets use this to evaluate our models as well.\n",
    "from sklearn.metrics import make_scorer\n",
    "\n",
    "# vectorized error calc\n",
    "def rmsle(y, y0):\n",
    "    assert len(y) == len(y0)\n",
    "    return np.sqrt(np.mean(np.power(np.log1p(y)-np.log1p(y0), 2)))\n",
    "\n",
    "rmsle_score = make_scorer(rmsle, greater_is_better=False)"
   ]
  },
  {
   "cell_type": "markdown",
   "metadata": {},
   "source": [
    "## Stochastic Gradient Descent - SGD\n",
    "Stochastic gradient descent is a simple yet very efficient approach to fit linear models. It is particularly useful when the number of samples (and the number of features) is very large. The partial_fit method allows only/out-of-core learning. The classes SGDClassifier and SGDRegressor provide functionality to fit linear models for classification and regression using different (convex) loss functions and different penalties."
   ]
  },
  {
   "cell_type": "markdown",
   "metadata": {},
   "source": [
    "### Grid Search\n",
    "SGD has a lot of parameters that need to be optimized. Lets try a 10-fold-cross-validation on several potential values and figure out whats giving us the best rmsle."
   ]
  },
  {
   "cell_type": "code",
   "execution_count": 7,
   "metadata": {},
   "outputs": [
    {
     "data": {
      "text/plain": [
       "GridSearchCV(cv=5, error_score='raise',\n",
       "       estimator=SGDRegressor(alpha=0.0001, average=False, epsilon=0.1, eta0=0.01,\n",
       "       fit_intercept=True, l1_ratio=0.15, learning_rate='invscaling',\n",
       "       loss='squared_loss', max_iter=None, n_iter=None, penalty='l2',\n",
       "       power_t=0.25, random_state=None, shuffle=True, tol=None, verbose=0,\n",
       "       warm_start=False),\n",
       "       fit_params=None, iid=True, n_jobs=1,\n",
       "       param_grid=[{'loss': ['squared_loss', 'huber', 'epsilon_insensitive'], 'penalty': ['elasticnet'], 'alpha': array([  1.00000e-01,   1.00000e-02,   1.00000e-03,   1.00000e-04,\n",
       "         1.00000e-05,   1.00000e-06]), 'l1_ratio': [0, 0.15, 0.3, 0.5, 0.75, 1], 'learning_rate': ['constant', 'optimal', 'invscaling']}],\n",
       "       pre_dispatch='2*n_jobs', refit=True, return_train_score='warn',\n",
       "       scoring=make_scorer(rmsle, greater_is_better=False), verbose=0)"
      ]
     },
     "execution_count": 7,
     "metadata": {},
     "output_type": "execute_result"
    }
   ],
   "source": [
    "from sklearn.model_selection import GridSearchCV\n",
    "from sklearn.linear_model import SGDRegressor\n",
    "from sklearn.model_selection import cross_val_score\n",
    "\n",
    "param_grid = [\n",
    "  {'loss': [\"squared_loss\", \"huber\", \"epsilon_insensitive\"], \n",
    "   'penalty': ['elasticnet'],\n",
    "   'alpha' : 10.0**-pd.np.arange(1,7),\n",
    "   'l1_ratio' : [0, .15, .3, .5, .75, 1],\n",
    "   'learning_rate' : ['constant', 'optimal', 'invscaling']\n",
    "  }\n",
    " ]\n",
    "sgd_cv = GridSearchCV(estimator=SGDRegressor(), param_grid=param_grid, cv=5, scoring=rmsle_score)\n",
    "sgd_cv.fit(train_x_encoded, train_y)"
   ]
  },
  {
   "cell_type": "code",
   "execution_count": 9,
   "metadata": {},
   "outputs": [
    {
     "data": {
      "text/plain": [
       "SGDRegressor(alpha=1.0000000000000001e-05, average=False, epsilon=0.1,\n",
       "       eta0=0.01, fit_intercept=True, l1_ratio=1, learning_rate='optimal',\n",
       "       loss='epsilon_insensitive', max_iter=None, n_iter=None,\n",
       "       penalty='elasticnet', power_t=0.25, random_state=None, shuffle=True,\n",
       "       tol=None, verbose=0, warm_start=False)"
      ]
     },
     "execution_count": 9,
     "metadata": {},
     "output_type": "execute_result"
    }
   ],
   "source": [
    "sgd_cv.best_estimator_"
   ]
  },
  {
   "cell_type": "markdown",
   "metadata": {},
   "source": [
    "### Optimal SGD\n",
    "We have found our optimal parameters. Lets use them on the whole data set and see how we're doing."
   ]
  },
  {
   "cell_type": "code",
   "execution_count": 10,
   "metadata": {},
   "outputs": [],
   "source": [
    "sgd = SGDRegressor(alpha=1.0000000000000001e-05, average=False, epsilon=0.1,\n",
    "       eta0=0.01, fit_intercept=True, l1_ratio=1, learning_rate='optimal',\n",
    "       loss='epsilon_insensitive', max_iter=None, n_iter=None,\n",
    "       penalty='elasticnet', power_t=0.25, random_state=None, shuffle=True,\n",
    "       tol=None, verbose=0, warm_start=False)\n",
    "scores = cross_val_score(sgd, train_x_encoded, train_y, cv=10, scoring=rmsle_score)"
   ]
  },
  {
   "cell_type": "code",
   "execution_count": 34,
   "metadata": {},
   "outputs": [
    {
     "name": "stdout",
     "output_type": "stream",
     "text": [
      "Average CV performance: -0.5970600813662186\n"
     ]
    }
   ],
   "source": [
    "print(\"Average CV performance: {0}\".format(scores.mean()))"
   ]
  },
  {
   "cell_type": "code",
   "execution_count": 32,
   "metadata": {},
   "outputs": [
    {
     "data": {
      "image/png": "[encoded data removed]",
      "text/plain": [
       "<matplotlib.figure.Figure at 0x19d0c0d82b0>"
      ]
     },
     "metadata": {},
     "output_type": "display_data"
    },
    {
     "data": {
      "text/plain": [
       "<ggplot: (110876374066)>"
      ]
     },
     "execution_count": 32,
     "metadata": {},
     "output_type": "execute_result"
    }
   ],
   "source": [
    "ggplot(pd.DataFrame({'scores': scores}), aes('scores')) + geom_density() + geom_rug() + ggtitle(\"10 fold cross validation performance on traing set\")"
   ]
  }
 ],
 "metadata": {
  "kernelspec": {
   "display_name": "Python 3",
   "language": "python",
   "name": "python3"
  },
  "language_info": {
   "codemirror_mode": {
    "name": "ipython",
    "version": 3
   },
   "file_extension": ".py",
   "mimetype": "text/x-python",
   "name": "python",
   "nbconvert_exporter": "python",
   "pygments_lexer": "ipython3",
   "version": "3.6.3"
  }
 },
 "nbformat": 4,
 "nbformat_minor": 2
}
